{
 "cells": [
  {
   "cell_type": "code",
   "execution_count": null,
   "metadata": {},
   "outputs": [],
   "source": [
    "# Generalized Hebbian Algorithm (GHA) for extracting Prinicipal Components (PCA)\n",
    "# Import Required Libraries\n",
    "import numpy\n",
    "from matplotlib import pyplot as plt\n",
    "from LoadData import load_images, load_labels\n",
    "from copy import deepcopy"
   ]
  },
  {
   "cell_type": "code",
   "execution_count": null,
   "metadata": {},
   "outputs": [],
   "source": [
    "# PCA using Sample Covariance Matrix\n",
    "Images = load_images('train-images-idx3-ubyte.gz')\n",
    "Labels_Train = load_labels('train-labels-idx1-ubyte.gz')\n",
    "Mean = numpy.mean(Images, axis=0)\n",
    "Images_Norm = Images - Mean\n",
    "row, col = Images.shape\n",
    "Sample_Cov_Matrix = numpy.matmul(Images_Norm.T, Images_Norm)/(row - 1)\n",
    "Eigen_Values, Eigen_Vectors = numpy.linalg.eig(Sample_Cov_Matrix)\n",
    "Sort_Index = numpy.argsort(Eigen_Values)[::-1]\n",
    "U = Eigen_Vectors[:, Sort_Index]"
   ]
  },
  {
   "cell_type": "code",
   "execution_count": null,
   "metadata": {
    "scrolled": true
   },
   "outputs": [],
   "source": [
    "# PCA using GHA Extracting First 3 PCs\n",
    "# Since we want the first three prinicpal components our neural network will have only three outputs. And after training \n",
    "# the weights converge to the three PCs. \n",
    "\n",
    "# Parameters\n",
    "W_Initial_Guess = numpy.random.normal(0, 0.5, (3, 784))\n",
    "W_Initial_Guess_Norm = W_Initial_Guess/numpy.linalg.norm(W_Initial_Guess, axis=1).reshape(3, 1)\n",
    "eta = 1e-9\n",
    "epoch = 1\n",
    "max_epoch = 150\n",
    "\n",
    "# Required Functions\n",
    "def update_weights(lr, x, W, iterations):\n",
    "    y = numpy.dot(W, x)\n",
    "    LT = numpy.tril(numpy.matmul(y[:, numpy.newaxis], y[numpy.newaxis, :]))\n",
    "    W = W + lr/iterations * ((y[:, numpy.newaxis] * x) - (numpy.matmul(LT, W)))\n",
    "    return W\n",
    "    \n",
    "# Main\n",
    "W_new = deepcopy(W_Initial_Guess_Norm)\n",
    "while epoch <= max_epoch:\n",
    "    for i in range(0, row):\n",
    "        W_new = update_weights(eta, Images_Norm[i], W_new, epoch)\n",
    "    print('Epoch: ', epoch, ' LR: ', eta)\n",
    "    epoch += 1\n",
    "W_final = deepcopy(W_new)\n",
    "print('Optimal Weights Reached!!!')"
   ]
  },
  {
   "cell_type": "code",
   "execution_count": null,
   "metadata": {},
   "outputs": [],
   "source": [
    "# Test\n",
    "W_final.T[numpy.abs(W_final.T) < 1e-5] = 0\n",
    "print('Initial Guess:')\n",
    "print(W_Initial_Guess)\n",
    "print(W_Initial_Guess_Norm)\n",
    "print('Final Sol:')\n",
    "print(W_final)\n",
    "print(W_final/numpy.linalg.norm(W_final, axis=1).reshape(3, 1))\n",
    "print('Check if GHA 1st and 2nd PCs are orthogonal: ')\n",
    "print(numpy.dot(W_final[0], W_final[1]))\n",
    "print('Check if GHA 2nd and 3rd PCs are orthogonal: ')\n",
    "print(numpy.dot(W_final[1], W_final[2]))\n",
    "print('Check if GHA 1st and 3rd PCs are orthogonal: ')\n",
    "print(numpy.dot(W_final[0], W_final[2]))\n",
    "print('SVD and GHA Sol:')\n",
    "print(U[:, 0:3])\n",
    "print(W_final.T)\n",
    "print('Check if SVD and GHA sol are close (euclidean distance):')\n",
    "print(numpy.linalg.norm(W_final.T[:, 0] - U[:, 0]))\n",
    "print(numpy.linalg.norm(W_final.T[:, 1] - U[:, 1]))\n",
    "print(numpy.linalg.norm(W_final.T[:, 2] - U[:, 2]))\n",
    "print('Check if 1st PC found using GHA and SVD are close (if value is 1 then it is close): ')\n",
    "print(numpy.dot(W_final.T[:, 0], U[:, 0]))\n",
    "print('Check if 2nd PC found using GHA and SVD are close (if value is 1 then it is close): ')\n",
    "print(numpy.dot(W_final.T[:, 1], U[:, 1]))\n",
    "print('Check if 3rd PC found using GHA and SVD are close (if value is 1 then it is close): ')\n",
    "print(numpy.dot(W_final.T[:, 2], U[:, 2]))"
   ]
  }
 ],
 "metadata": {
  "kernelspec": {
   "display_name": "Python 3",
   "language": "python",
   "name": "python3"
  },
  "language_info": {
   "codemirror_mode": {
    "name": "ipython",
    "version": 3
   },
   "file_extension": ".py",
   "mimetype": "text/x-python",
   "name": "python",
   "nbconvert_exporter": "python",
   "pygments_lexer": "ipython3",
   "version": "3.7.0"
  }
 },
 "nbformat": 4,
 "nbformat_minor": 2
}
